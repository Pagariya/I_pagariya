{
 "cells": [
  {
   "cell_type": "markdown",
   "metadata": {},
   "source": [
    "AIM: \n",
    "1. Train Autoencoder \n",
    "2. Training data of Wall1 \n",
    "3. Test data of wall 2 \n",
    "4. Preciosn, recall \n",
    "5. Anmoly detection in each layers and there time in frame (need to add this information  in the peak frame) ----> next version \n",
    "6. Anmoly % layer wise layer distribution, overall data classifcation Recall, Precision\n",
    "\n",
    "\n",
    "Implementation.\n",
    "Training data - wall 1\n",
    "Test Data - wall 2\n",
    "Threshlding by bin show \n",
    "Predict method use"
   ]
  },
  {
   "cell_type": "markdown",
   "metadata": {},
   "source": [
    "1. Drop out \n",
    "2. Experiment with AE architecture \n",
    "3. Increase epoch \n",
    "4. Check litearature\n",
    "5. If not succesful implement in pytorch"
   ]
  },
  {
   "cell_type": "code",
   "execution_count": 69,
   "metadata": {},
   "outputs": [],
   "source": [
    "import matplotlib.pyplot as plt\n",
    "import numpy as np\n",
    "import pandas as pd\n",
    "import tensorflow as tf\n",
    "\n",
    "from sklearn.metrics import accuracy_score, precision_score, recall_score\n",
    "from sklearn.model_selection import train_test_split\n",
    "from tensorflow.keras import layers, losses\n",
    "from tensorflow.keras.datasets import fashion_mnist\n",
    "from tensorflow.keras.models import Model"
   ]
  },
  {
   "cell_type": "code",
   "execution_count": 70,
   "metadata": {},
   "outputs": [],
   "source": [
    "import numpy as np\n",
    "from tensorflow.keras.models import Sequential\n",
    "from tensorflow.keras.layers import LSTM\n",
    "from tensorflow.keras.layers import Dense\n",
    "from tensorflow.keras.layers import RepeatVector\n",
    "from tensorflow.keras.layers import TimeDistributed"
   ]
  },
  {
   "cell_type": "markdown",
   "metadata": {},
   "source": [
    "1. Check the script and particulary shape of y - https://towardsdatascience.com/time-series-of-price-anomaly-detection-with-lstm-11a12ba4f6d9\n",
    "2. Particular analsis of how does reconstructed data looks like use the saved model first\n",
    "3. Check input datas (df) is it similar to other normal frame\n",
    "\n",
    "1. Why loss looks so wiered\n",
    "2. Dropout uses"
   ]
  },
  {
   "cell_type": "code",
   "execution_count": 71,
   "metadata": {},
   "outputs": [
    {
     "data": {
      "text/html": [
       "<div>\n",
       "<style scoped>\n",
       "    .dataframe tbody tr th:only-of-type {\n",
       "        vertical-align: middle;\n",
       "    }\n",
       "\n",
       "    .dataframe tbody tr th {\n",
       "        vertical-align: top;\n",
       "    }\n",
       "\n",
       "    .dataframe thead th {\n",
       "        text-align: right;\n",
       "    }\n",
       "</style>\n",
       "<table border=\"1\" class=\"dataframe\">\n",
       "  <thead>\n",
       "    <tr style=\"text-align: right;\">\n",
       "      <th></th>\n",
       "      <th>2</th>\n",
       "      <th>2_voltage</th>\n",
       "      <th>2_max</th>\n",
       "      <th>2_multplied</th>\n",
       "      <th>3</th>\n",
       "      <th>3_voltage</th>\n",
       "      <th>3_max</th>\n",
       "      <th>3_multplied</th>\n",
       "      <th>4</th>\n",
       "      <th>4_voltage</th>\n",
       "      <th>...</th>\n",
       "      <th>47_max</th>\n",
       "      <th>47_multplied</th>\n",
       "      <th>48</th>\n",
       "      <th>48_voltage</th>\n",
       "      <th>48_max</th>\n",
       "      <th>48_multplied</th>\n",
       "      <th>49</th>\n",
       "      <th>49_voltage</th>\n",
       "      <th>49_max</th>\n",
       "      <th>49_multplied</th>\n",
       "    </tr>\n",
       "  </thead>\n",
       "  <tbody>\n",
       "    <tr>\n",
       "      <th>0</th>\n",
       "      <td>NaN</td>\n",
       "      <td>NaN</td>\n",
       "      <td>NaN</td>\n",
       "      <td>NaN</td>\n",
       "      <td>NaN</td>\n",
       "      <td>NaN</td>\n",
       "      <td>NaN</td>\n",
       "      <td>NaN</td>\n",
       "      <td>0.007729</td>\n",
       "      <td>[0.987662598900362, 2.12887220061687, 2.845648...</td>\n",
       "      <td>...</td>\n",
       "      <td>3.101784</td>\n",
       "      <td>0.024242</td>\n",
       "      <td>0.007763</td>\n",
       "      <td>[2.2576102990478746, 3.089043851414778, 2.8664...</td>\n",
       "      <td>3.137321</td>\n",
       "      <td>0.024354</td>\n",
       "      <td>NaN</td>\n",
       "      <td>NaN</td>\n",
       "      <td>NaN</td>\n",
       "      <td>NaN</td>\n",
       "    </tr>\n",
       "    <tr>\n",
       "      <th>1</th>\n",
       "      <td>0.007902</td>\n",
       "      <td>[0.8421617272361539, 2.833579187340754, 4.1531...</td>\n",
       "      <td>4.153145</td>\n",
       "      <td>0.032817</td>\n",
       "      <td>0.008008</td>\n",
       "      <td>[1.1264583612712886, 2.278396137857047, 2.8389...</td>\n",
       "      <td>3.118546</td>\n",
       "      <td>0.024975</td>\n",
       "      <td>0.008596</td>\n",
       "      <td>[1.3980152876491887, 2.6156631353091053, 2.919...</td>\n",
       "      <td>...</td>\n",
       "      <td>3.082339</td>\n",
       "      <td>0.023132</td>\n",
       "      <td>0.007441</td>\n",
       "      <td>[1.4999329489070672, 2.553305618881588, 2.8376...</td>\n",
       "      <td>3.150060</td>\n",
       "      <td>0.023439</td>\n",
       "      <td>0.008935</td>\n",
       "      <td>[0.8589245004693576, 1.4462920745608154, 2.584...</td>\n",
       "      <td>3.209065</td>\n",
       "      <td>0.028674</td>\n",
       "    </tr>\n",
       "    <tr>\n",
       "      <th>2</th>\n",
       "      <td>NaN</td>\n",
       "      <td>NaN</td>\n",
       "      <td>NaN</td>\n",
       "      <td>NaN</td>\n",
       "      <td>0.007978</td>\n",
       "      <td>[0.6141880112645837, 1.957221402708864, 2.7309...</td>\n",
       "      <td>3.131957</td>\n",
       "      <td>0.024988</td>\n",
       "      <td>0.007817</td>\n",
       "      <td>[0.8300925305082473, 2.359527960305753, 2.7229...</td>\n",
       "      <td>...</td>\n",
       "      <td>3.054848</td>\n",
       "      <td>0.023765</td>\n",
       "      <td>NaN</td>\n",
       "      <td>NaN</td>\n",
       "      <td>NaN</td>\n",
       "      <td>NaN</td>\n",
       "      <td>0.008980</td>\n",
       "      <td>[0.5900496178087703, 1.6159313396808368, 2.271...</td>\n",
       "      <td>3.215100</td>\n",
       "      <td>0.028873</td>\n",
       "    </tr>\n",
       "    <tr>\n",
       "      <th>3</th>\n",
       "      <td>0.008793</td>\n",
       "      <td>[1.2612310580662465, 2.539224889365697, 2.8020...</td>\n",
       "      <td>3.072952</td>\n",
       "      <td>0.027019</td>\n",
       "      <td>NaN</td>\n",
       "      <td>NaN</td>\n",
       "      <td>NaN</td>\n",
       "      <td>NaN</td>\n",
       "      <td>NaN</td>\n",
       "      <td>NaN</td>\n",
       "      <td>...</td>\n",
       "      <td>NaN</td>\n",
       "      <td>NaN</td>\n",
       "      <td>0.007471</td>\n",
       "      <td>[1.9981225693978808, 2.9589647311251173, 2.952...</td>\n",
       "      <td>3.215770</td>\n",
       "      <td>0.024024</td>\n",
       "      <td>0.007453</td>\n",
       "      <td>[1.5770417057798043, 2.7102051763443744, 2.881...</td>\n",
       "      <td>3.188279</td>\n",
       "      <td>0.023762</td>\n",
       "    </tr>\n",
       "    <tr>\n",
       "      <th>4</th>\n",
       "      <td>0.008476</td>\n",
       "      <td>[2.024272495641679, 2.903982834920209, 2.88520...</td>\n",
       "      <td>3.346520</td>\n",
       "      <td>0.028366</td>\n",
       "      <td>0.007778</td>\n",
       "      <td>[0.973581869384471, 2.128201689687542, 2.91135...</td>\n",
       "      <td>3.131957</td>\n",
       "      <td>0.024359</td>\n",
       "      <td>0.007724</td>\n",
       "      <td>[1.4214831701756738, 2.745071744669438, 3.0226...</td>\n",
       "      <td>...</td>\n",
       "      <td>3.097090</td>\n",
       "      <td>0.026274</td>\n",
       "      <td>0.007773</td>\n",
       "      <td>[1.0258817218720666, 3.0206517366233068, 3.025...</td>\n",
       "      <td>3.240579</td>\n",
       "      <td>0.025189</td>\n",
       "      <td>NaN</td>\n",
       "      <td>NaN</td>\n",
       "      <td>NaN</td>\n",
       "      <td>NaN</td>\n",
       "    </tr>\n",
       "  </tbody>\n",
       "</table>\n",
       "<p>5 rows × 188 columns</p>\n",
       "</div>"
      ],
      "text/plain": [
       "          2                                          2_voltage     2_max  \\\n",
       "0       NaN                                                NaN       NaN   \n",
       "1  0.007902  [0.8421617272361539, 2.833579187340754, 4.1531...  4.153145   \n",
       "2       NaN                                                NaN       NaN   \n",
       "3  0.008793  [1.2612310580662465, 2.539224889365697, 2.8020...  3.072952   \n",
       "4  0.008476  [2.024272495641679, 2.903982834920209, 2.88520...  3.346520   \n",
       "\n",
       "   2_multplied         3                                          3_voltage  \\\n",
       "0          NaN       NaN                                                NaN   \n",
       "1     0.032817  0.008008  [1.1264583612712886, 2.278396137857047, 2.8389...   \n",
       "2          NaN  0.007978  [0.6141880112645837, 1.957221402708864, 2.7309...   \n",
       "3     0.027019       NaN                                                NaN   \n",
       "4     0.028366  0.007778  [0.973581869384471, 2.128201689687542, 2.91135...   \n",
       "\n",
       "      3_max  3_multplied         4  \\\n",
       "0       NaN          NaN  0.007729   \n",
       "1  3.118546     0.024975  0.008596   \n",
       "2  3.131957     0.024988  0.007817   \n",
       "3       NaN          NaN       NaN   \n",
       "4  3.131957     0.024359  0.007724   \n",
       "\n",
       "                                           4_voltage  ...    47_max  \\\n",
       "0  [0.987662598900362, 2.12887220061687, 2.845648...  ...  3.101784   \n",
       "1  [1.3980152876491887, 2.6156631353091053, 2.919...  ...  3.082339   \n",
       "2  [0.8300925305082473, 2.359527960305753, 2.7229...  ...  3.054848   \n",
       "3                                                NaN  ...       NaN   \n",
       "4  [1.4214831701756738, 2.745071744669438, 3.0226...  ...  3.097090   \n",
       "\n",
       "   47_multplied        48                                         48_voltage  \\\n",
       "0      0.024242  0.007763  [2.2576102990478746, 3.089043851414778, 2.8664...   \n",
       "1      0.023132  0.007441  [1.4999329489070672, 2.553305618881588, 2.8376...   \n",
       "2      0.023765       NaN                                                NaN   \n",
       "3           NaN  0.007471  [1.9981225693978808, 2.9589647311251173, 2.952...   \n",
       "4      0.026274  0.007773  [1.0258817218720666, 3.0206517366233068, 3.025...   \n",
       "\n",
       "     48_max  48_multplied        49  \\\n",
       "0  3.137321      0.024354       NaN   \n",
       "1  3.150060      0.023439  0.008935   \n",
       "2       NaN           NaN  0.008980   \n",
       "3  3.215770      0.024024  0.007453   \n",
       "4  3.240579      0.025189       NaN   \n",
       "\n",
       "                                          49_voltage    49_max  49_multplied  \n",
       "0                                                NaN       NaN           NaN  \n",
       "1  [0.8589245004693576, 1.4462920745608154, 2.584...  3.209065      0.028674  \n",
       "2  [0.5900496178087703, 1.6159313396808368, 2.271...  3.215100      0.028873  \n",
       "3  [1.5770417057798043, 2.7102051763443744, 2.881...  3.188279      0.023762  \n",
       "4                                                NaN       NaN           NaN  \n",
       "\n",
       "[5 rows x 188 columns]"
      ]
     },
     "execution_count": 71,
     "metadata": {},
     "output_type": "execute_result"
    }
   ],
   "source": [
    "train_data_frame  = pd.read_excel(r'C:\\Users\\z004ffpk\\Desktop\\Thesis\\Code_Visualization\\stell_wall_1\\without_outliners_frame_peak.xlsx')\n",
    "test_data_frame = pd.read_excel(r'C:\\Users\\z004ffpk\\Desktop\\Thesis\\Code_Visualization\\Steel_wall2_Misc\\without_outliners_frame_peak.xlsx')\n",
    "del train_data_frame['Unnamed: 0']\n",
    "del test_data_frame['Unnamed: 0']\n",
    "train_data_frame.head()"
   ]
  },
  {
   "cell_type": "code",
   "execution_count": 72,
   "metadata": {},
   "outputs": [
    {
     "data": {
      "text/html": [
       "<div>\n",
       "<style scoped>\n",
       "    .dataframe tbody tr th:only-of-type {\n",
       "        vertical-align: middle;\n",
       "    }\n",
       "\n",
       "    .dataframe tbody tr th {\n",
       "        vertical-align: top;\n",
       "    }\n",
       "\n",
       "    .dataframe thead th {\n",
       "        text-align: right;\n",
       "    }\n",
       "</style>\n",
       "<table border=\"1\" class=\"dataframe\">\n",
       "  <thead>\n",
       "    <tr style=\"text-align: right;\">\n",
       "      <th></th>\n",
       "      <th>2</th>\n",
       "      <th>2_voltage</th>\n",
       "      <th>2_max</th>\n",
       "      <th>2_multplied</th>\n",
       "      <th>4</th>\n",
       "      <th>4_voltage</th>\n",
       "      <th>4_max</th>\n",
       "      <th>4_multplied</th>\n",
       "      <th>5</th>\n",
       "      <th>5_voltage</th>\n",
       "      <th>...</th>\n",
       "      <th>65_max</th>\n",
       "      <th>65_multplied</th>\n",
       "      <th>66</th>\n",
       "      <th>66_voltage</th>\n",
       "      <th>66_max</th>\n",
       "      <th>66_multplied</th>\n",
       "      <th>67</th>\n",
       "      <th>67_voltage</th>\n",
       "      <th>67_max</th>\n",
       "      <th>67_multplied</th>\n",
       "    </tr>\n",
       "  </thead>\n",
       "  <tbody>\n",
       "    <tr>\n",
       "      <th>0</th>\n",
       "      <td>0.008277</td>\n",
       "      <td>[2.008180233337804, 3.0059004961780875, 2.8664...</td>\n",
       "      <td>3.415583</td>\n",
       "      <td>0.028270</td>\n",
       "      <td>NaN</td>\n",
       "      <td>NaN</td>\n",
       "      <td>NaN</td>\n",
       "      <td>NaN</td>\n",
       "      <td>0.007475</td>\n",
       "      <td>[1.6487863752179162, 2.745742255598766, 2.8020...</td>\n",
       "      <td>...</td>\n",
       "      <td>3.110500</td>\n",
       "      <td>0.021251</td>\n",
       "      <td>0.007705</td>\n",
       "      <td>[2.469491752715569, 3.4940324527289794, 2.8932...</td>\n",
       "      <td>3.494032</td>\n",
       "      <td>0.026920</td>\n",
       "      <td>NaN</td>\n",
       "      <td>NaN</td>\n",
       "      <td>NaN</td>\n",
       "      <td>NaN</td>\n",
       "    </tr>\n",
       "    <tr>\n",
       "      <th>1</th>\n",
       "      <td>0.009051</td>\n",
       "      <td>[1.0842161727236157, 2.260292342765187, 2.6592...</td>\n",
       "      <td>3.136650</td>\n",
       "      <td>0.028391</td>\n",
       "      <td>NaN</td>\n",
       "      <td>NaN</td>\n",
       "      <td>NaN</td>\n",
       "      <td>NaN</td>\n",
       "      <td>0.007693</td>\n",
       "      <td>[1.0252112109427385, 2.252246211613249, 2.8825...</td>\n",
       "      <td>...</td>\n",
       "      <td>3.110500</td>\n",
       "      <td>0.024064</td>\n",
       "      <td>0.007760</td>\n",
       "      <td>[1.186133833981494, 2.540565911224353, 2.93616...</td>\n",
       "      <td>2.991149</td>\n",
       "      <td>0.023212</td>\n",
       "      <td>0.008179</td>\n",
       "      <td>[0.6926377899959769, 1.91162665951455, 1.76880...</td>\n",
       "      <td>3.258683</td>\n",
       "      <td>0.026653</td>\n",
       "    </tr>\n",
       "    <tr>\n",
       "      <th>2</th>\n",
       "      <td>0.007501</td>\n",
       "      <td>[0.7784631889499799, 2.0765723481292744, 2.888...</td>\n",
       "      <td>3.109830</td>\n",
       "      <td>0.023325</td>\n",
       "      <td>0.007937</td>\n",
       "      <td>[1.0694649322783962, 1.6219659380447902, 2.729...</td>\n",
       "      <td>3.053507</td>\n",
       "      <td>0.024237</td>\n",
       "      <td>0.007768</td>\n",
       "      <td>[1.6326941129140404, 2.265656430199812, 2.8530...</td>\n",
       "      <td>...</td>\n",
       "      <td>3.111841</td>\n",
       "      <td>0.025640</td>\n",
       "      <td>0.007988</td>\n",
       "      <td>[1.0319163202360198, 1.5629609762639132, 2.697...</td>\n",
       "      <td>3.035403</td>\n",
       "      <td>0.024246</td>\n",
       "      <td>0.009425</td>\n",
       "      <td>[2.169102856376559, 3.921818425640338, 3.87354...</td>\n",
       "      <td>3.921818</td>\n",
       "      <td>0.036962</td>\n",
       "    </tr>\n",
       "    <tr>\n",
       "      <th>3</th>\n",
       "      <td>0.009032</td>\n",
       "      <td>[1.3343167493630146, 2.4983237226766795, 2.846...</td>\n",
       "      <td>3.598632</td>\n",
       "      <td>0.032502</td>\n",
       "      <td>0.007808</td>\n",
       "      <td>[0.6631353091055384, 1.3913101783559072, 2.158...</td>\n",
       "      <td>3.086362</td>\n",
       "      <td>0.024098</td>\n",
       "      <td>NaN</td>\n",
       "      <td>NaN</td>\n",
       "      <td>...</td>\n",
       "      <td>4.413973</td>\n",
       "      <td>0.037677</td>\n",
       "      <td>0.007672</td>\n",
       "      <td>[0.951455008716642, 2.064503151401368, 2.59957...</td>\n",
       "      <td>3.016629</td>\n",
       "      <td>0.023143</td>\n",
       "      <td>0.011027</td>\n",
       "      <td>[2.448035402977069, 2.649188681775513, 2.46680...</td>\n",
       "      <td>3.156765</td>\n",
       "      <td>0.034810</td>\n",
       "    </tr>\n",
       "    <tr>\n",
       "      <th>4</th>\n",
       "      <td>0.009573</td>\n",
       "      <td>[1.0453265388225828, 2.3018640203835323, 2.815...</td>\n",
       "      <td>3.121228</td>\n",
       "      <td>0.029881</td>\n",
       "      <td>0.008498</td>\n",
       "      <td>[1.807026954539359, 1.6541504626525412, 2.7779...</td>\n",
       "      <td>3.119887</td>\n",
       "      <td>0.026513</td>\n",
       "      <td>0.007781</td>\n",
       "      <td>[2.662598900362076, 2.930803272093335, 2.99785...</td>\n",
       "      <td>...</td>\n",
       "      <td>3.168164</td>\n",
       "      <td>0.024658</td>\n",
       "      <td>0.007471</td>\n",
       "      <td>[1.6648786375217917, 2.7913369987930805, 2.917...</td>\n",
       "      <td>3.062223</td>\n",
       "      <td>0.022877</td>\n",
       "      <td>0.007914</td>\n",
       "      <td>[1.1338339814938982, 2.2395065039560147, 2.762...</td>\n",
       "      <td>3.189620</td>\n",
       "      <td>0.025243</td>\n",
       "    </tr>\n",
       "  </tbody>\n",
       "</table>\n",
       "<p>5 rows × 260 columns</p>\n",
       "</div>"
      ],
      "text/plain": [
       "          2                                          2_voltage     2_max  \\\n",
       "0  0.008277  [2.008180233337804, 3.0059004961780875, 2.8664...  3.415583   \n",
       "1  0.009051  [1.0842161727236157, 2.260292342765187, 2.6592...  3.136650   \n",
       "2  0.007501  [0.7784631889499799, 2.0765723481292744, 2.888...  3.109830   \n",
       "3  0.009032  [1.3343167493630146, 2.4983237226766795, 2.846...  3.598632   \n",
       "4  0.009573  [1.0453265388225828, 2.3018640203835323, 2.815...  3.121228   \n",
       "\n",
       "   2_multplied         4                                          4_voltage  \\\n",
       "0     0.028270       NaN                                                NaN   \n",
       "1     0.028391       NaN                                                NaN   \n",
       "2     0.023325  0.007937  [1.0694649322783962, 1.6219659380447902, 2.729...   \n",
       "3     0.032502  0.007808  [0.6631353091055384, 1.3913101783559072, 2.158...   \n",
       "4     0.029881  0.008498  [1.807026954539359, 1.6541504626525412, 2.7779...   \n",
       "\n",
       "      4_max  4_multplied         5  \\\n",
       "0       NaN          NaN  0.007475   \n",
       "1       NaN          NaN  0.007693   \n",
       "2  3.053507     0.024237  0.007768   \n",
       "3  3.086362     0.024098       NaN   \n",
       "4  3.119887     0.026513  0.007781   \n",
       "\n",
       "                                           5_voltage  ...    65_max  \\\n",
       "0  [1.6487863752179162, 2.745742255598766, 2.8020...  ...  3.110500   \n",
       "1  [1.0252112109427385, 2.252246211613249, 2.8825...  ...  3.110500   \n",
       "2  [1.6326941129140404, 2.265656430199812, 2.8530...  ...  3.111841   \n",
       "3                                                NaN  ...  4.413973   \n",
       "4  [2.662598900362076, 2.930803272093335, 2.99785...  ...  3.168164   \n",
       "\n",
       "   65_multplied        66                                         66_voltage  \\\n",
       "0      0.021251  0.007705  [2.469491752715569, 3.4940324527289794, 2.8932...   \n",
       "1      0.024064  0.007760  [1.186133833981494, 2.540565911224353, 2.93616...   \n",
       "2      0.025640  0.007988  [1.0319163202360198, 1.5629609762639132, 2.697...   \n",
       "3      0.037677  0.007672  [0.951455008716642, 2.064503151401368, 2.59957...   \n",
       "4      0.024658  0.007471  [1.6648786375217917, 2.7913369987930805, 2.917...   \n",
       "\n",
       "     66_max  66_multplied        67  \\\n",
       "0  3.494032      0.026920       NaN   \n",
       "1  2.991149      0.023212  0.008179   \n",
       "2  3.035403      0.024246  0.009425   \n",
       "3  3.016629      0.023143  0.011027   \n",
       "4  3.062223      0.022877  0.007914   \n",
       "\n",
       "                                          67_voltage    67_max  67_multplied  \n",
       "0                                                NaN       NaN           NaN  \n",
       "1  [0.6926377899959769, 1.91162665951455, 1.76880...  3.258683      0.026653  \n",
       "2  [2.169102856376559, 3.921818425640338, 3.87354...  3.921818      0.036962  \n",
       "3  [2.448035402977069, 2.649188681775513, 2.46680...  3.156765      0.034810  \n",
       "4  [1.1338339814938982, 2.2395065039560147, 2.762...  3.189620      0.025243  \n",
       "\n",
       "[5 rows x 260 columns]"
      ]
     },
     "execution_count": 72,
     "metadata": {},
     "output_type": "execute_result"
    }
   ],
   "source": [
    "test_data_frame.head()"
   ]
  },
  {
   "cell_type": "code",
   "execution_count": 73,
   "metadata": {},
   "outputs": [
    {
     "name": "stdout",
     "output_type": "stream",
     "text": [
      "0      [2.2576102990478746, 3.089043851414778, 2.8664...\n",
      "1      [1.4999329489070672, 2.553305618881588, 2.8376...\n",
      "2                                                    NaN\n",
      "3      [1.9981225693978808, 2.9589647311251173, 2.952...\n",
      "4      [1.0258817218720666, 3.0206517366233068, 3.025...\n",
      "                             ...                        \n",
      "869    [0.5565240713423629, 1.38661660185061, 2.40646...\n",
      "870    [1.0258817218720666, 2.716239774708328, 2.8382...\n",
      "871    [1.884806222341424, 2.509722408475258, 2.84497...\n",
      "872    [1.372535872334719, 2.553976129810916, 2.77926...\n",
      "873    [2.102051763443744, 2.960305752983773, 2.81279...\n",
      "Name: 48_voltage, Length: 874, dtype: object\n"
     ]
    }
   ],
   "source": [
    "print(train_data_frame['48_voltage'])"
   ]
  },
  {
   "cell_type": "code",
   "execution_count": 74,
   "metadata": {},
   "outputs": [
    {
     "name": "stdout",
     "output_type": "stream",
     "text": [
      "Index([0, 'label'], dtype='object')\n"
     ]
    },
    {
     "data": {
      "text/html": [
       "<div>\n",
       "<style scoped>\n",
       "    .dataframe tbody tr th:only-of-type {\n",
       "        vertical-align: middle;\n",
       "    }\n",
       "\n",
       "    .dataframe tbody tr th {\n",
       "        vertical-align: top;\n",
       "    }\n",
       "\n",
       "    .dataframe thead th {\n",
       "        text-align: right;\n",
       "    }\n",
       "</style>\n",
       "<table border=\"1\" class=\"dataframe\">\n",
       "  <thead>\n",
       "    <tr style=\"text-align: right;\">\n",
       "      <th></th>\n",
       "      <th>0</th>\n",
       "      <th>label</th>\n",
       "    </tr>\n",
       "  </thead>\n",
       "  <tbody>\n",
       "    <tr>\n",
       "      <th>0</th>\n",
       "      <td>[0.8421617272361539, 2.833579187340754, 4.1531...</td>\n",
       "      <td>1</td>\n",
       "    </tr>\n",
       "    <tr>\n",
       "      <th>1</th>\n",
       "      <td>[1.2612310580662465, 2.539224889365697, 2.8020...</td>\n",
       "      <td>1</td>\n",
       "    </tr>\n",
       "    <tr>\n",
       "      <th>2</th>\n",
       "      <td>[2.024272495641679, 2.903982834920209, 2.88520...</td>\n",
       "      <td>1</td>\n",
       "    </tr>\n",
       "    <tr>\n",
       "      <th>3</th>\n",
       "      <td>[0.892450046935765, 1.9505162934155824, 2.6424...</td>\n",
       "      <td>1</td>\n",
       "    </tr>\n",
       "    <tr>\n",
       "      <th>4</th>\n",
       "      <td>[0.7241518036743999, 2.1221670913235884, 3.037...</td>\n",
       "      <td>1</td>\n",
       "    </tr>\n",
       "  </tbody>\n",
       "</table>\n",
       "</div>"
      ],
      "text/plain": [
       "                                                   0  label\n",
       "0  [0.8421617272361539, 2.833579187340754, 4.1531...      1\n",
       "1  [1.2612310580662465, 2.539224889365697, 2.8020...      1\n",
       "2  [2.024272495641679, 2.903982834920209, 2.88520...      1\n",
       "3  [0.892450046935765, 1.9505162934155824, 2.6424...      1\n",
       "4  [0.7241518036743999, 2.1221670913235884, 3.037...      1"
      ]
     },
     "execution_count": 74,
     "metadata": {},
     "output_type": "execute_result"
    }
   ],
   "source": [
    "train_data_list = []\n",
    "i = 0\n",
    "\n",
    "for col in train_data_frame.columns:\n",
    "    i += 1\n",
    "    if 'voltage' in str(col):\n",
    "        #print(col)\n",
    "            #print(train_data_frame[col].iloc[1].dro)\n",
    "            #print(len(train_data_frame[col].dropna()))\n",
    "            train_data_list.append(train_data_frame[col].dropna())\n",
    "\n",
    "\n",
    "new_dataframe = pd.concat(train_data_list, ignore_index=True)\n",
    "new_dataframe = new_dataframe.to_frame()\n",
    "#print(len(new_dataframe))\n",
    "new_dataframe['label'] = 1\n",
    "# new_dataframe.to_csv('test_delete.csv')\n",
    "# print(new_dataframe.colown())\n",
    "print(new_dataframe.columns)\n",
    "new_dataframe.head()"
   ]
  },
  {
   "cell_type": "code",
   "execution_count": 75,
   "metadata": {},
   "outputs": [
    {
     "name": "stdout",
     "output_type": "stream",
     "text": [
      "<class 'str'>\n",
      "[0.8421617272361539, 2.833579187340754, 4.153144696258549, 4.034464261767467, 2.944213490679898, 2.952259621831836, 2.9683518841357115, 3.0152876491886818, 2.9991953868848062, 2.9643288185597427, 2.9562826874078048, 2.993831299450181, 3.0286978677752447, 3.0045594743194317, 3.0005364087434625, 3.038085020785839, 3.0206517366233068, 2.9723749497116803, 2.971033927853024, 2.9723749497116803, 2.9361673595279605, 2.9013007912028965, 2.88923159447499, 2.9013007912028965, 2.88923159447499, 2.8516829824326138, 2.8543650261499263, 2.834249698270082, 2.8288856108354565, 2.8476599168566445, 1.98404183988199, 0.5665817352822851]\n"
     ]
    }
   ],
   "source": [
    "new_dataframe.rename(columns = {0:'raw_voltage'}, inplace = True)\n",
    "print(type(new_dataframe[new_dataframe.columns[0]].iloc[0]))\n",
    "print(new_dataframe[new_dataframe.columns[0]].iloc[0])"
   ]
  },
  {
   "cell_type": "code",
   "execution_count": 76,
   "metadata": {},
   "outputs": [],
   "source": [
    "def str_float_conversion(float_string):\n",
    "    list_new_volatge =  []\n",
    "    float_string = float_string.split(',')\n",
    "    for i in float_string:\n",
    "        i = i.replace('[', '')\n",
    "        i = i.replace(']', '')\n",
    "        i = i.replace(' ', '')\n",
    "        i = float(i)\n",
    "        #print(i)\n",
    "        list_new_volatge.append(i)\n",
    "    x = 63- len(list_new_volatge)\n",
    "    for i in range(x):\n",
    "        list_new_volatge.append(float(0.5))\n",
    "    return list_new_volatge"
   ]
  },
  {
   "cell_type": "code",
   "execution_count": 77,
   "metadata": {},
   "outputs": [
    {
     "name": "stdout",
     "output_type": "stream",
     "text": [
      "[1.2612310580662465, 2.539224889365697, 2.8020651736623305, 2.807429261096956, 2.831567654552769, 2.8838675070403648, 2.9670108622770552, 3.012605605471369, 3.013946627330025, 2.99785436502615, 3.0152876491886818, 3.0729515891109025, 3.067587501676277, 3.0206517366233068, 3.0313799114925573, 3.0595413705243395, 3.038085020785839, 3.0018774306021188, 3.0018774306021188, 2.9924902775915245, 2.95091859997318, 2.948236556255867, 2.9723749497116803, 2.934826337669304, 2.8838675070403648, 2.879844441464396, 2.906664878637522, 2.8463188949979883, 2.861740646372536, 2.186536140539091, 2.848330427785973, 1.3128603996245138, 1.1526082875150865, 1.4617138259353628, 1.534799517232131, 1.6159313396808368, 0.5, 0.5, 0.5, 0.5, 0.5, 0.5, 0.5, 0.5, 0.5, 0.5, 0.5, 0.5, 0.5, 0.5, 0.5, 0.5, 0.5, 0.5, 0.5, 0.5, 0.5, 0.5, 0.5, 0.5, 0.5, 0.5, 0.5]\n",
      "<class 'float'>\n"
     ]
    }
   ],
   "source": [
    "new_dataframe['raw_voltage'] = new_dataframe['raw_voltage'].apply(lambda x: str_float_conversion(x)  )\n",
    "print(new_dataframe['raw_voltage'].iloc[1])\n",
    "print(type(new_dataframe['raw_voltage'].iloc[1][1]))\n",
    "\n",
    "\n"
   ]
  },
  {
   "cell_type": "code",
   "execution_count": 78,
   "metadata": {},
   "outputs": [],
   "source": [
    "list_data = []\n",
    "for i, row in new_dataframe.iterrows():\n",
    "    list_data.append(new_dataframe['raw_voltage'].iloc[i])"
   ]
  },
  {
   "cell_type": "code",
   "execution_count": 79,
   "metadata": {},
   "outputs": [
    {
     "data": {
      "text/html": [
       "<div>\n",
       "<style scoped>\n",
       "    .dataframe tbody tr th:only-of-type {\n",
       "        vertical-align: middle;\n",
       "    }\n",
       "\n",
       "    .dataframe tbody tr th {\n",
       "        vertical-align: top;\n",
       "    }\n",
       "\n",
       "    .dataframe thead th {\n",
       "        text-align: right;\n",
       "    }\n",
       "</style>\n",
       "<table border=\"1\" class=\"dataframe\">\n",
       "  <thead>\n",
       "    <tr style=\"text-align: right;\">\n",
       "      <th></th>\n",
       "      <th>0</th>\n",
       "      <th>1</th>\n",
       "      <th>2</th>\n",
       "      <th>3</th>\n",
       "      <th>4</th>\n",
       "      <th>5</th>\n",
       "      <th>6</th>\n",
       "      <th>7</th>\n",
       "      <th>8</th>\n",
       "      <th>9</th>\n",
       "      <th>...</th>\n",
       "      <th>54</th>\n",
       "      <th>55</th>\n",
       "      <th>56</th>\n",
       "      <th>57</th>\n",
       "      <th>58</th>\n",
       "      <th>59</th>\n",
       "      <th>60</th>\n",
       "      <th>61</th>\n",
       "      <th>62</th>\n",
       "      <th>label</th>\n",
       "    </tr>\n",
       "  </thead>\n",
       "  <tbody>\n",
       "    <tr>\n",
       "      <th>0</th>\n",
       "      <td>0.842162</td>\n",
       "      <td>2.833579</td>\n",
       "      <td>4.153145</td>\n",
       "      <td>4.034464</td>\n",
       "      <td>2.944213</td>\n",
       "      <td>2.952260</td>\n",
       "      <td>2.968352</td>\n",
       "      <td>3.015288</td>\n",
       "      <td>2.999195</td>\n",
       "      <td>2.964329</td>\n",
       "      <td>...</td>\n",
       "      <td>0.5</td>\n",
       "      <td>0.5</td>\n",
       "      <td>0.5</td>\n",
       "      <td>0.5</td>\n",
       "      <td>0.5</td>\n",
       "      <td>0.5</td>\n",
       "      <td>0.5</td>\n",
       "      <td>0.5</td>\n",
       "      <td>0.5</td>\n",
       "      <td>1</td>\n",
       "    </tr>\n",
       "    <tr>\n",
       "      <th>1</th>\n",
       "      <td>1.261231</td>\n",
       "      <td>2.539225</td>\n",
       "      <td>2.802065</td>\n",
       "      <td>2.807429</td>\n",
       "      <td>2.831568</td>\n",
       "      <td>2.883868</td>\n",
       "      <td>2.967011</td>\n",
       "      <td>3.012606</td>\n",
       "      <td>3.013947</td>\n",
       "      <td>2.997854</td>\n",
       "      <td>...</td>\n",
       "      <td>0.5</td>\n",
       "      <td>0.5</td>\n",
       "      <td>0.5</td>\n",
       "      <td>0.5</td>\n",
       "      <td>0.5</td>\n",
       "      <td>0.5</td>\n",
       "      <td>0.5</td>\n",
       "      <td>0.5</td>\n",
       "      <td>0.5</td>\n",
       "      <td>1</td>\n",
       "    </tr>\n",
       "    <tr>\n",
       "      <th>2</th>\n",
       "      <td>2.024272</td>\n",
       "      <td>2.903983</td>\n",
       "      <td>2.885209</td>\n",
       "      <td>2.879844</td>\n",
       "      <td>2.954942</td>\n",
       "      <td>2.944213</td>\n",
       "      <td>2.960306</td>\n",
       "      <td>2.979080</td>\n",
       "      <td>3.046131</td>\n",
       "      <td>3.083680</td>\n",
       "      <td>...</td>\n",
       "      <td>0.5</td>\n",
       "      <td>0.5</td>\n",
       "      <td>0.5</td>\n",
       "      <td>0.5</td>\n",
       "      <td>0.5</td>\n",
       "      <td>0.5</td>\n",
       "      <td>0.5</td>\n",
       "      <td>0.5</td>\n",
       "      <td>0.5</td>\n",
       "      <td>1</td>\n",
       "    </tr>\n",
       "    <tr>\n",
       "      <th>3</th>\n",
       "      <td>0.892450</td>\n",
       "      <td>1.950516</td>\n",
       "      <td>2.642484</td>\n",
       "      <td>2.887891</td>\n",
       "      <td>2.831568</td>\n",
       "      <td>2.867105</td>\n",
       "      <td>2.945555</td>\n",
       "      <td>3.015958</td>\n",
       "      <td>3.054848</td>\n",
       "      <td>3.038085</td>\n",
       "      <td>...</td>\n",
       "      <td>0.5</td>\n",
       "      <td>0.5</td>\n",
       "      <td>0.5</td>\n",
       "      <td>0.5</td>\n",
       "      <td>0.5</td>\n",
       "      <td>0.5</td>\n",
       "      <td>0.5</td>\n",
       "      <td>0.5</td>\n",
       "      <td>0.5</td>\n",
       "      <td>1</td>\n",
       "    </tr>\n",
       "    <tr>\n",
       "      <th>4</th>\n",
       "      <td>0.724152</td>\n",
       "      <td>2.122167</td>\n",
       "      <td>3.037415</td>\n",
       "      <td>2.867105</td>\n",
       "      <td>2.905994</td>\n",
       "      <td>2.882526</td>\n",
       "      <td>2.940190</td>\n",
       "      <td>3.026686</td>\n",
       "      <td>3.059541</td>\n",
       "      <td>3.069599</td>\n",
       "      <td>...</td>\n",
       "      <td>0.5</td>\n",
       "      <td>0.5</td>\n",
       "      <td>0.5</td>\n",
       "      <td>0.5</td>\n",
       "      <td>0.5</td>\n",
       "      <td>0.5</td>\n",
       "      <td>0.5</td>\n",
       "      <td>0.5</td>\n",
       "      <td>0.5</td>\n",
       "      <td>1</td>\n",
       "    </tr>\n",
       "  </tbody>\n",
       "</table>\n",
       "<p>5 rows × 64 columns</p>\n",
       "</div>"
      ],
      "text/plain": [
       "          0         1         2         3         4         5         6  \\\n",
       "0  0.842162  2.833579  4.153145  4.034464  2.944213  2.952260  2.968352   \n",
       "1  1.261231  2.539225  2.802065  2.807429  2.831568  2.883868  2.967011   \n",
       "2  2.024272  2.903983  2.885209  2.879844  2.954942  2.944213  2.960306   \n",
       "3  0.892450  1.950516  2.642484  2.887891  2.831568  2.867105  2.945555   \n",
       "4  0.724152  2.122167  3.037415  2.867105  2.905994  2.882526  2.940190   \n",
       "\n",
       "          7         8         9  ...   54   55   56   57   58   59   60   61  \\\n",
       "0  3.015288  2.999195  2.964329  ...  0.5  0.5  0.5  0.5  0.5  0.5  0.5  0.5   \n",
       "1  3.012606  3.013947  2.997854  ...  0.5  0.5  0.5  0.5  0.5  0.5  0.5  0.5   \n",
       "2  2.979080  3.046131  3.083680  ...  0.5  0.5  0.5  0.5  0.5  0.5  0.5  0.5   \n",
       "3  3.015958  3.054848  3.038085  ...  0.5  0.5  0.5  0.5  0.5  0.5  0.5  0.5   \n",
       "4  3.026686  3.059541  3.069599  ...  0.5  0.5  0.5  0.5  0.5  0.5  0.5  0.5   \n",
       "\n",
       "    62  label  \n",
       "0  0.5      1  \n",
       "1  0.5      1  \n",
       "2  0.5      1  \n",
       "3  0.5      1  \n",
       "4  0.5      1  \n",
       "\n",
       "[5 rows x 64 columns]"
      ]
     },
     "execution_count": 79,
     "metadata": {},
     "output_type": "execute_result"
    }
   ],
   "source": [
    "df = pd.DataFrame(columns=list(range(0,63)), data= list_data)\n",
    "df['label'] = 1\n",
    "raw_data = df.values\n",
    "df.head()\n"
   ]
  },
  {
   "cell_type": "code",
   "execution_count": 80,
   "metadata": {},
   "outputs": [
    {
     "name": "stdout",
     "output_type": "stream",
     "text": [
      "[[0.84216173 2.83357919 4.1531447  ... 0.5        0.5        0.5       ]\n",
      " [1.26123106 2.53922489 2.80206517 ... 0.5        0.5        0.5       ]\n",
      " [2.0242725  2.90398283 2.88520853 ... 0.5        0.5        0.5       ]\n",
      " ...\n",
      " [0.85356041 1.57100711 2.26163336 ... 0.5        0.5        0.5       ]\n",
      " [1.60050959 2.70282956 2.90264181 ... 0.5        0.5        0.5       ]\n",
      " [0.58535604 1.6320236  2.69612445 ... 0.5        0.5        0.5       ]]\n",
      "(35348, 63)\n"
     ]
    }
   ],
   "source": [
    "df_train =df['label']\n",
    "df = df.drop(columns=['label'])\n",
    "df_train = df_train.to_numpy() \n",
    "df = df.to_numpy()\n",
    "print(df)\n",
    "print(df.shape)\n"
   ]
  },
  {
   "cell_type": "code",
   "execution_count": null,
   "metadata": {},
   "outputs": [],
   "source": []
  },
  {
   "cell_type": "code",
   "execution_count": 81,
   "metadata": {},
   "outputs": [
    {
     "name": "stdout",
     "output_type": "stream",
     "text": [
      "(35348,)\n",
      "(35348, 63, 1)\n",
      "(35348,)\n",
      "[[[0.84216173]\n",
      "  [2.83357919]\n",
      "  [4.1531447 ]\n",
      "  ...\n",
      "  [0.5       ]\n",
      "  [0.5       ]\n",
      "  [0.5       ]]\n",
      "\n",
      " [[1.26123106]\n",
      "  [2.53922489]\n",
      "  [2.80206517]\n",
      "  ...\n",
      "  [0.5       ]\n",
      "  [0.5       ]\n",
      "  [0.5       ]]\n",
      "\n",
      " [[2.0242725 ]\n",
      "  [2.90398283]\n",
      "  [2.88520853]\n",
      "  ...\n",
      "  [0.5       ]\n",
      "  [0.5       ]\n",
      "  [0.5       ]]\n",
      "\n",
      " ...\n",
      "\n",
      " [[0.85356041]\n",
      "  [1.57100711]\n",
      "  [2.26163336]\n",
      "  ...\n",
      "  [0.5       ]\n",
      "  [0.5       ]\n",
      "  [0.5       ]]\n",
      "\n",
      " [[1.60050959]\n",
      "  [2.70282956]\n",
      "  [2.90264181]\n",
      "  ...\n",
      "  [0.5       ]\n",
      "  [0.5       ]\n",
      "  [0.5       ]]\n",
      "\n",
      " [[0.58535604]\n",
      "  [1.6320236 ]\n",
      "  [2.69612445]\n",
      "  ...\n",
      "  [0.5       ]\n",
      "  [0.5       ]\n",
      "  [0.5       ]]]\n"
     ]
    }
   ],
   "source": [
    "num_features = 1\n",
    "timesteps = df.shape[1]\n",
    "df = df.reshape(df.shape[0], timesteps, num_features)\n",
    "print(df_train.shape)\n",
    "#df_train = df.reshape(df_train.shape[0], num_features)\n",
    "print(df.shape)\n",
    "print(df_train.shape)\n",
    "print(df)"
   ]
  },
  {
   "cell_type": "code",
   "execution_count": 82,
   "metadata": {},
   "outputs": [],
   "source": [
    "from tensorflow.keras import regularizers"
   ]
  },
  {
   "cell_type": "code",
   "execution_count": 83,
   "metadata": {},
   "outputs": [
    {
     "name": "stdout",
     "output_type": "stream",
     "text": [
      "Model: \"sequential_2\"\n",
      "_________________________________________________________________\n",
      " Layer (type)                Output Shape              Param #   \n",
      "=================================================================\n",
      " lstm_4 (LSTM)               (None, 20)                1760      \n",
      "                                                                 \n",
      " repeat_vector_2 (RepeatVect  (None, 63, 20)           0         \n",
      " or)                                                             \n",
      "                                                                 \n",
      " lstm_5 (LSTM)               (None, 63, 40)            9760      \n",
      "                                                                 \n",
      " time_distributed_2 (TimeDis  (None, 63, 1)            41        \n",
      " tributed)                                                       \n",
      "                                                                 \n",
      "=================================================================\n",
      "Total params: 11,561\n",
      "Trainable params: 11,561\n",
      "Non-trainable params: 0\n",
      "_________________________________________________________________\n"
     ]
    }
   ],
   "source": [
    "model = Sequential()\n",
    "model.add(LSTM(20,  input_shape=(timesteps,num_features), return_sequences=False, kernel_regularizer=regularizers.L1L2(l1=1e-5, l2=1e-4), dropout = 0.2))\n",
    "#model.add(LSTM(64, activation='relu', return_sequences=False))\n",
    "model.add(RepeatVector(timesteps))\n",
    "model.add(LSTM(40,  return_sequences=True, kernel_regularizer=regularizers.L1L2(l1=1e-5, l2=1e-4), dropout = 0.2))\n",
    "#model.add(LSTM(128, activation='relu', return_sequences=True))\n",
    "model.add(TimeDistributed(Dense(num_features)))\n",
    "model.compile(optimizer=tf.keras.optimizers.Adam(learning_rate=1e-4), loss='mse')\n",
    "model.summary()"
   ]
  },
  {
   "cell_type": "code",
   "execution_count": 84,
   "metadata": {},
   "outputs": [],
   "source": [
    "#autoencoder.compile(optimizer='adam', loss='mae')"
   ]
  },
  {
   "cell_type": "code",
   "execution_count": 85,
   "metadata": {},
   "outputs": [],
   "source": [
    "# print(new_dataframe['raw_voltage'].iloc[1000])\n",
    "# print(new_dataframe['raw_voltage'].iloc[1999])"
   ]
  },
  {
   "cell_type": "code",
   "execution_count": 86,
   "metadata": {},
   "outputs": [],
   "source": [
    "# arr = np.empty((1,63))\n",
    "# for i, row in new_dataframe.iterrows():\n",
    "#     z = np.asarray(new_dataframe['raw_voltage'].iloc[i])\n",
    "\n",
    "#     z = np.reshape(z, (1,63))\n",
    "  \n",
    "#     arr = np.append(arr, z, axis=0)\n",
    "\n",
    "# #print(arr.shape)\n",
    "# arr = np.delete(arr, 0, 0)\n",
    "# print(arr.shape)\n",
    "# print(arr)\n",
    "# y_data = new_dataframe['label'].to_numpy()\n",
    "# print(y_data.shape)"
   ]
  },
  {
   "cell_type": "code",
   "execution_count": 87,
   "metadata": {},
   "outputs": [],
   "source": [
    "# labels = raw_data[:, -1]\n",
    "# data = raw_data[:, 0:-1]"
   ]
  },
  {
   "cell_type": "code",
   "execution_count": 88,
   "metadata": {},
   "outputs": [],
   "source": [
    "# train_data, test_data, train_labels, test_labels = train_test_split(\n",
    "#     data, labels, test_size=0.1, random_state=25\n",
    "# )"
   ]
  },
  {
   "cell_type": "code",
   "execution_count": 89,
   "metadata": {},
   "outputs": [],
   "source": [
    "#print(train_data.shape)"
   ]
  },
  {
   "cell_type": "code",
   "execution_count": 90,
   "metadata": {},
   "outputs": [],
   "source": [
    "# train_labels = train_labels.astype(bool)\n",
    "# test_labels = test_labels.astype(bool)\n",
    "\n",
    "# normal_train_data = train_data[train_labels]\n",
    "# normal_test_data = test_data[test_labels]"
   ]
  },
  {
   "cell_type": "code",
   "execution_count": 91,
   "metadata": {},
   "outputs": [],
   "source": [
    "# x = np.asarray(new_dataframe['raw_voltage'].iloc[1000:2000]).astype(np.float32)\n",
    "# print(x.shape)"
   ]
  },
  {
   "cell_type": "code",
   "execution_count": 92,
   "metadata": {},
   "outputs": [
    {
     "name": "stdout",
     "output_type": "stream",
     "text": [
      "Epoch 1/3\n",
      "1061/1061 [==============================] - 87s 76ms/step - loss: 0.7954 - val_loss: 0.0964\n",
      "Epoch 2/3\n",
      "1061/1061 [==============================] - 92s 87ms/step - loss: 0.0802 - val_loss: 0.0626\n",
      "Epoch 3/3\n",
      "1061/1061 [==============================] - 84s 79ms/step - loss: 0.0590 - val_loss: 0.0713\n"
     ]
    }
   ],
   "source": [
    "history = model.fit(df, df,  \n",
    "          epochs=8, \n",
    "          batch_size=20,\n",
    "          validation_split=0.4,\n",
    "          shuffle=True)"
   ]
  },
  {
   "cell_type": "code",
   "execution_count": 93,
   "metadata": {},
   "outputs": [
    {
     "data": {
      "text/plain": [
       "<matplotlib.legend.Legend at 0x1cf3e022ad0>"
      ]
     },
     "execution_count": 93,
     "metadata": {},
     "output_type": "execute_result"
    },
    {
     "data": {
      "image/png": "[encoded data removed]",
      "text/plain": [
       "<Figure size 432x288 with 1 Axes>"
      ]
     },
     "metadata": {
      "needs_background": "light"
     },
     "output_type": "display_data"
    }
   ],
   "source": [
    "plt.plot(history.history[\"loss\"], label=\"Training Loss\")\n",
    "plt.plot(history.history[\"val_loss\"], label=\"Validation Loss\")\n",
    "plt.legend()"
   ]
  },
  {
   "cell_type": "code",
   "execution_count": 94,
   "metadata": {},
   "outputs": [],
   "source": [
    "from tensorflow.keras.models import load_model"
   ]
  },
  {
   "cell_type": "code",
   "execution_count": 95,
   "metadata": {},
   "outputs": [],
   "source": [
    "reconstructions = model.predict(df, verbose=0)\n",
    "# print(yhat[0])"
   ]
  },
  {
   "cell_type": "code",
   "execution_count": 96,
   "metadata": {},
   "outputs": [],
   "source": [
    "model.save('20_40_mse_adam2_5epoch.h5')\n",
    "#savedModel=load_model('gfgModel.h5')"
   ]
  },
  {
   "cell_type": "code",
   "execution_count": 97,
   "metadata": {},
   "outputs": [
    {
     "name": "stdout",
     "output_type": "stream",
     "text": [
      "[0.369336]\n",
      "[0.08381228]\n",
      "[0.05322618]\n",
      "[0.12025999]\n",
      "[0.11921925]\n"
     ]
    }
   ],
   "source": [
    "#train_loss = tf.keras.losses.mse(reconstructions, df)\n",
    "train_loss = np.mean(np.abs(reconstructions - df), axis=1)\n",
    "print(train_loss[10])\n",
    "print(train_loss[100])\n",
    "print(train_loss[1000])\n",
    "print(train_loss[500])\n",
    "print(train_loss[800])\n",
    "#yhat = savedModel.predict(df, verbose=0)\n",
    "# print(yhat[0].shape)\n",
    "# print(yhat[20000])"
   ]
  },
  {
   "cell_type": "code",
   "execution_count": 98,
   "metadata": {},
   "outputs": [
    {
     "data": {
      "image/png": "[encoded data removed]",
      "text/plain": [
       "<Figure size 432x288 with 1 Axes>"
      ]
     },
     "metadata": {
      "needs_background": "light"
     },
     "output_type": "display_data"
    }
   ],
   "source": [
    "plt.plot(df[10], 'b')\n",
    "plt.plot(reconstructions[10], 'r')\n",
    "#plt.fill_between(np.arange(63), yhat[0],df[0], color='lightcoral')\n",
    "plt.legend(labels=[\"Input\", \"Reconstruction\"])\n",
    "plt.show()"
   ]
  },
  {
   "cell_type": "code",
   "execution_count": 99,
   "metadata": {},
   "outputs": [
    {
     "data": {
      "image/png": "[encoded data removed]",
      "text/plain": [
       "<Figure size 432x288 with 1 Axes>"
      ]
     },
     "metadata": {
      "needs_background": "light"
     },
     "output_type": "display_data"
    }
   ],
   "source": [
    "plt.plot(df[100], 'b')\n",
    "plt.plot(reconstructions[100], 'r')\n",
    "#plt.fill_between(np.arange(63), yhat[0],df[0], color='lightcoral')\n",
    "plt.legend(labels=[\"Input\", \"Reconstruction\"])\n",
    "plt.show()"
   ]
  },
  {
   "cell_type": "code",
   "execution_count": 100,
   "metadata": {},
   "outputs": [
    {
     "data": {
      "image/png": "[encoded data removed]",
      "text/plain": [
       "<Figure size 432x288 with 1 Axes>"
      ]
     },
     "metadata": {
      "needs_background": "light"
     },
     "output_type": "display_data"
    }
   ],
   "source": [
    "plt.plot(df[1000], 'b')\n",
    "plt.plot(reconstructions[1000], 'r')\n",
    "#plt.fill_between(np.arange(63), yhat[0],df[0], color='lightcoral')\n",
    "plt.legend(labels=[\"Input\", \"Reconstruction\"])\n",
    "plt.show()"
   ]
  },
  {
   "cell_type": "code",
   "execution_count": 101,
   "metadata": {},
   "outputs": [
    {
     "data": {
      "image/png": "[encoded data removed]",
      "text/plain": [
       "<Figure size 432x288 with 1 Axes>"
      ]
     },
     "metadata": {
      "needs_background": "light"
     },
     "output_type": "display_data"
    }
   ],
   "source": [
    "plt.plot(df[800], 'b')\n",
    "plt.plot(reconstructions[800], 'r')\n",
    "#plt.fill_between(np.arange(63), yhat[0],df[0], color='lightcoral')\n",
    "plt.legend(labels=[\"Input\", \"Reconstruction\"])\n",
    "plt.show()"
   ]
  },
  {
   "cell_type": "code",
   "execution_count": 102,
   "metadata": {},
   "outputs": [
    {
     "data": {
      "image/png": "[encoded data removed]",
      "text/plain": [
       "<Figure size 432x288 with 1 Axes>"
      ]
     },
     "metadata": {
      "needs_background": "light"
     },
     "output_type": "display_data"
    }
   ],
   "source": [
    "plt.plot(df[500], 'b')\n",
    "plt.plot(reconstructions[500], 'r')\n",
    "#plt.fill_between(np.arange(63), yhat[0],df[0], color='lightcoral')\n",
    "plt.legend(labels=[\"Input\", \"Reconstruction\"])\n",
    "plt.show()"
   ]
  },
  {
   "cell_type": "code",
   "execution_count": null,
   "metadata": {},
   "outputs": [],
   "source": []
  },
  {
   "cell_type": "code",
   "execution_count": 30,
   "metadata": {},
   "outputs": [
    {
     "data": {
      "image/png": "[encoded data removed]",
      "text/plain": [
       "<Figure size 432x288 with 1 Axes>"
      ]
     },
     "metadata": {
      "needs_background": "light"
     },
     "output_type": "display_data"
    }
   ],
   "source": [
    "plt.plot(df[10], 'b')\n",
    "plt.plot(reconstructions[10], 'r')\n",
    "#plt.fill_between(np.arange(63), yhat[0],df[0], color='lightcoral')\n",
    "plt.legend(labels=[\"Input\", \"Reconstruction\"])\n",
    "plt.show()"
   ]
  },
  {
   "cell_type": "code",
   "execution_count": 31,
   "metadata": {},
   "outputs": [
    {
     "data": {
      "image/png": "[encoded data removed]",
      "text/plain": [
       "<Figure size 432x288 with 1 Axes>"
      ]
     },
     "metadata": {
      "needs_background": "light"
     },
     "output_type": "display_data"
    }
   ],
   "source": [
    "plt.plot(df[100], 'b')\n",
    "plt.plot(reconstructions[100], 'r')\n",
    "#plt.fill_between(np.arange(63), yhat[0],df[0], color='lightcoral')\n",
    "plt.legend(labels=[\"Input\", \"Reconstruction\"])\n",
    "plt.show()"
   ]
  },
  {
   "cell_type": "code",
   "execution_count": 32,
   "metadata": {},
   "outputs": [
    {
     "data": {
      "image/png": "[encoded data removed]",
      "text/plain": [
       "<Figure size 432x288 with 1 Axes>"
      ]
     },
     "metadata": {
      "needs_background": "light"
     },
     "output_type": "display_data"
    }
   ],
   "source": [
    "plt.plot(df[1000], 'b')\n",
    "plt.plot(reconstructions[1000], 'r')\n",
    "#plt.fill_between(np.arange(63), yhat[0],df[0], color='lightcoral')\n",
    "plt.legend(labels=[\"Input\", \"Reconstruction\"])\n",
    "plt.show()"
   ]
  },
  {
   "cell_type": "code",
   "execution_count": 33,
   "metadata": {},
   "outputs": [
    {
     "data": {
      "image/png": "[encoded data removed]",
      "text/plain": [
       "<Figure size 432x288 with 1 Axes>"
      ]
     },
     "metadata": {
      "needs_background": "light"
     },
     "output_type": "display_data"
    }
   ],
   "source": [
    "plt.plot(df[500], 'b')\n",
    "plt.plot(reconstructions[500], 'r')\n",
    "#plt.fill_between(np.arange(63), yhat[0],df[0], color='lightcoral')\n",
    "plt.legend(labels=[\"Input\", \"Reconstruction\"])\n",
    "plt.show()"
   ]
  },
  {
   "cell_type": "code",
   "execution_count": 34,
   "metadata": {},
   "outputs": [
    {
     "data": {
      "image/png": "[encoded data removed]",
      "text/plain": [
       "<Figure size 432x288 with 1 Axes>"
      ]
     },
     "metadata": {
      "needs_background": "light"
     },
     "output_type": "display_data"
    }
   ],
   "source": [
    "plt.plot(df[800], 'b')\n",
    "plt.plot(reconstructions[800], 'r')\n",
    "#plt.fill_between(np.arange(63), yhat[0],df[0], color='lightcoral')\n",
    "plt.legend(labels=[\"Input\", \"Reconstruction\"])\n",
    "plt.show()"
   ]
  },
  {
   "cell_type": "code",
   "execution_count": null,
   "metadata": {},
   "outputs": [
    {
     "data": {
      "image/png": "[encoded data removed]",
      "text/plain": [
       "<Figure size 432x288 with 1 Axes>"
      ]
     },
     "metadata": {
      "needs_background": "light"
     },
     "output_type": "display_data"
    }
   ],
   "source": [
    "plt.plot(normal_train_data[1], 'b')\n",
    "plt.plot(decoded_data[1], 'r')\n",
    "plt.fill_between(np.arange(63), decoded_data[1], normal_train_data[1], color='lightcoral')\n",
    "plt.legend(labels=[\"Input\", \"Reconstruction\", \"Error\"])\n",
    "plt.show()"
   ]
  },
  {
   "cell_type": "code",
   "execution_count": 43,
   "metadata": {},
   "outputs": [
    {
     "ename": "NameError",
     "evalue": "name 'arr' is not defined",
     "output_type": "error",
     "traceback": [
      "\u001b[1;31m---------------------------------------------------------------------------\u001b[0m",
      "\u001b[1;31mNameError\u001b[0m                                 Traceback (most recent call last)",
      "\u001b[1;32mc:\\Users\\z004ffpk\\Desktop\\Thesis\\Code_Visualization\\my_code\\Autoncoder_training.ipynb Cell 28'\u001b[0m in \u001b[0;36m<module>\u001b[1;34m\u001b[0m\n\u001b[1;32m----> <a href='vscode-notebook-cell:/c%3A/Users/z004ffpk/Desktop/Thesis/Code_Visualization/my_code/Autoncoder_training.ipynb#ch0000022?line=0'>1</a>\u001b[0m plt\u001b[39m.\u001b[39mplot(arr[\u001b[39m40\u001b[39m], \u001b[39m'\u001b[39m\u001b[39mb\u001b[39m\u001b[39m'\u001b[39m)\n\u001b[0;32m      <a href='vscode-notebook-cell:/c%3A/Users/z004ffpk/Desktop/Thesis/Code_Visualization/my_code/Autoncoder_training.ipynb#ch0000022?line=1'>2</a>\u001b[0m plt\u001b[39m.\u001b[39mplot(decoded_data[\u001b[39m40\u001b[39m], \u001b[39m'\u001b[39m\u001b[39mr\u001b[39m\u001b[39m'\u001b[39m)\n\u001b[0;32m      <a href='vscode-notebook-cell:/c%3A/Users/z004ffpk/Desktop/Thesis/Code_Visualization/my_code/Autoncoder_training.ipynb#ch0000022?line=2'>3</a>\u001b[0m plt\u001b[39m.\u001b[39mfill_between(np\u001b[39m.\u001b[39marange(\u001b[39m63\u001b[39m), decoded_data[\u001b[39m40\u001b[39m], arr[\u001b[39m40\u001b[39m], color\u001b[39m=\u001b[39m\u001b[39m'\u001b[39m\u001b[39mlightcoral\u001b[39m\u001b[39m'\u001b[39m)\n",
      "\u001b[1;31mNameError\u001b[0m: name 'arr' is not defined"
     ]
    }
   ],
   "source": [
    "plt.plot(arr[40], 'b')\n",
    "plt.plot(decoded_data[40], 'r')\n",
    "plt.fill_between(np.arange(63), decoded_data[40], arr[40], color='lightcoral')\n",
    "plt.legend(labels=[\"Input\", \"Reconstruction\", \"Error\"])\n",
    "plt.show()"
   ]
  },
  {
   "cell_type": "code",
   "execution_count": null,
   "metadata": {},
   "outputs": [
    {
     "data": {
      "image/png": "[encoded data removed]",
      "text/plain": [
       "<Figure size 432x288 with 1 Axes>"
      ]
     },
     "metadata": {
      "needs_background": "light"
     },
     "output_type": "display_data"
    }
   ],
   "source": [
    "plt.plot(arr[1000], 'b')\n",
    "plt.plot(decoded_data[1000], 'r')\n",
    "plt.fill_between(np.arange(63), decoded_data[1000], arr[1000], color='lightcoral')\n",
    "plt.legend(labels=[\"Input\", \"Reconstruction\", \"Error\"])\n",
    "plt.show()"
   ]
  },
  {
   "cell_type": "code",
   "execution_count": null,
   "metadata": {},
   "outputs": [
    {
     "data": {
      "image/png": "[encoded data removed]",
      "text/plain": [
       "<Figure size 432x288 with 1 Axes>"
      ]
     },
     "metadata": {
      "needs_background": "light"
     },
     "output_type": "display_data"
    }
   ],
   "source": [
    "reconstructions = autoencoder.predict(arr)\n",
    "train_loss = tf.keras.losses.mae(reconstructions, arr)\n",
    "\n",
    "plt.hist(train_loss[None,:], bins=50)\n",
    "plt.xlabel(\"Train loss\")\n",
    "plt.ylabel(\"No of examples\")\n",
    "plt.show()"
   ]
  },
  {
   "cell_type": "code",
   "execution_count": 224,
   "metadata": {},
   "outputs": [
    {
     "name": "stdout",
     "output_type": "stream",
     "text": [
      "47.0\n",
      "48.0\n",
      "49.0\n",
      "50.0\n"
     ]
    },
    {
     "data": {
      "text/html": [
       "<div>\n",
       "<style scoped>\n",
       "    .dataframe tbody tr th:only-of-type {\n",
       "        vertical-align: middle;\n",
       "    }\n",
       "\n",
       "    .dataframe tbody tr th {\n",
       "        vertical-align: top;\n",
       "    }\n",
       "\n",
       "    .dataframe thead th {\n",
       "        text-align: right;\n",
       "    }\n",
       "</style>\n",
       "<table border=\"1\" class=\"dataframe\">\n",
       "  <thead>\n",
       "    <tr style=\"text-align: right;\">\n",
       "      <th></th>\n",
       "      <th>0</th>\n",
       "      <th>label</th>\n",
       "    </tr>\n",
       "  </thead>\n",
       "  <tbody>\n",
       "    <tr>\n",
       "      <th>0</th>\n",
       "      <td>[0.5464664074024407, 1.882124178624112, 2.8959...</td>\n",
       "      <td>0</td>\n",
       "    </tr>\n",
       "    <tr>\n",
       "      <th>1</th>\n",
       "      <td>[2.318626793616736, 4.051897545929998, 3.56309...</td>\n",
       "      <td>0</td>\n",
       "    </tr>\n",
       "    <tr>\n",
       "      <th>2</th>\n",
       "      <td>[1.546198203030709, 2.544588976800322, 3.01931...</td>\n",
       "      <td>0</td>\n",
       "    </tr>\n",
       "    <tr>\n",
       "      <th>3</th>\n",
       "      <td>[1.5421751374547406, 2.7323320370122035, 3.093...</td>\n",
       "      <td>0</td>\n",
       "    </tr>\n",
       "    <tr>\n",
       "      <th>4</th>\n",
       "      <td>[0.9715703365964864, 2.633096419471637, 3.0595...</td>\n",
       "      <td>0</td>\n",
       "    </tr>\n",
       "  </tbody>\n",
       "</table>\n",
       "</div>"
      ],
      "text/plain": [
       "                                                   0  label\n",
       "0  [0.5464664074024407, 1.882124178624112, 2.8959...      0\n",
       "1  [2.318626793616736, 4.051897545929998, 3.56309...      0\n",
       "2  [1.546198203030709, 2.544588976800322, 3.01931...      0\n",
       "3  [1.5421751374547406, 2.7323320370122035, 3.093...      0\n",
       "4  [0.9715703365964864, 2.633096419471637, 3.0595...      0"
      ]
     },
     "execution_count": 224,
     "metadata": {},
     "output_type": "execute_result"
    }
   ],
   "source": [
    "test_data_list = []\n",
    "i = 0\n",
    "list_anmolies = [47,48,49, 50]\n",
    "for col in test_data_frame.columns:\n",
    "    #i += 1\n",
    "    if 'voltage' in str(col):\n",
    "        layer_index= float(str(col).replace('_voltage', ''))\n",
    "        #print(layer_index)\n",
    "        if int(layer_index) in list_anmolies :\n",
    "                print(layer_index)\n",
    "        \n",
    "                #print(col)\n",
    "                #print(test_data_frame[col].iloc[1].dro)\n",
    "                #print(len(train_data_frame[col].dropna()))\n",
    "                #test_data_frame = test_data_frame[col].dropna()\n",
    "                #layer_index= float(str(col).replace('_voltage', ''))\n",
    "                #if layer_index in list_anmolies:\n",
    "                #test_data_frame['label'] = 0\n",
    "                #elif layer_index in list(range(1,46)):\n",
    "                #test_data_frame['label'] = 1\n",
    "\n",
    "                #test_data_list.append(test_data_frame[col].dropna())\n",
    "                test_data_list.append(test_data_frame[col].dropna())\n",
    "\n",
    "test_new_dataframe = pd.concat(test_data_list, ignore_index=True)\n",
    "test_new_dataframe = test_new_dataframe.to_frame()\n",
    "    #print(len(new_dataframe))\n",
    "test_new_dataframe['label'] = 0\n",
    "    # new_dataframe.to_csv('test_delete.csv')\n",
    "    # print(new_dataframe.colown())\n",
    "    # print(new_dataframe.columns)\n",
    "test_new_dataframe.head()"
   ]
  },
  {
   "cell_type": "code",
   "execution_count": 225,
   "metadata": {},
   "outputs": [
    {
     "name": "stdout",
     "output_type": "stream",
     "text": [
      "<class 'str'>\n",
      "[0.5464664074024407, 1.882124178624112, 2.8959367037682715, 3.0722810781815744, 3.115864288587904, 3.1735282285101247, 3.161459031782218, 3.180903848732734, 3.1721872066514685, 3.202360198471235, 3.2513074963121897, 3.252648518170846, 3.1909615126726565, 3.167493630146172, 3.1359796164677483, 3.108488668365294, 3.105136113718653, 3.0991015153547004, 3.1279334853158107, 3.115864288587904, 3.089714362344106, 3.0809977202628405, 3.058870859595012, 3.025345313128604, 3.0548477940190426, 3.0689285235349337, 3.0809977202628405, 3.0769746546868717, 3.0669169907469493, 3.0528362612310582, 2.9368378704572886, 1.389969156497251]\n"
     ]
    }
   ],
   "source": [
    "test_new_dataframe.rename(columns = {0:'raw_voltage'}, inplace = True)\n",
    "print(type(test_new_dataframe[test_new_dataframe.columns[0]].iloc[0]))\n",
    "print(test_new_dataframe[test_new_dataframe.columns[0]].iloc[0])"
   ]
  },
  {
   "cell_type": "code",
   "execution_count": 226,
   "metadata": {},
   "outputs": [
    {
     "name": "stdout",
     "output_type": "stream",
     "text": [
      "[2.318626793616736, 4.051897545929998, 3.563095078449779, 3.2814804881319564, 3.2258280809977204, 3.1788923159447497, 3.167493630146172, 3.174869250368781, 3.177551294086093, 3.1493898350543112, 3.1601180099235617, 3.170846184792812, 3.148048813195655, 3.123910419739842, 3.1064771355773098, 3.0742926109695587, 3.06289392517098, 3.062223414241652, 3.084350274909481, 3.0816682311921686, 3.0582003486656832, 3.0474721737964328, 3.024004291269948, 3.024674802199276, 3.0474721737964328, 3.067587501676277, 3.0809977202628405, 3.0809977202628405, 3.056859326807027, 3.0649054579589645, 3.0729515891109025, 0.7529837736355103, 1.4234947029636582, 0.5, 0.5, 0.5, 0.5, 0.5, 0.5, 0.5, 0.5, 0.5, 0.5, 0.5, 0.5, 0.5, 0.5, 0.5, 0.5, 0.5, 0.5, 0.5, 0.5, 0.5, 0.5, 0.5, 0.5, 0.5, 0.5, 0.5, 0.5, 0.5, 0.5]\n",
      "<class 'float'>\n"
     ]
    }
   ],
   "source": [
    "test_new_dataframe['raw_voltage'] = test_new_dataframe['raw_voltage'].apply(lambda x: str_float_conversion(x)  )\n",
    "print(test_new_dataframe['raw_voltage'].iloc[1])\n",
    "print(type(test_new_dataframe['raw_voltage'].iloc[1][1]))"
   ]
  },
  {
   "cell_type": "code",
   "execution_count": 227,
   "metadata": {},
   "outputs": [
    {
     "name": "stdout",
     "output_type": "stream",
     "text": [
      "(2789, 63)\n",
      "[[0.54646641 1.88212418 2.8959367  ... 0.5        0.5        0.5       ]\n",
      " [2.31862679 4.05189755 3.56309508 ... 0.5        0.5        0.5       ]\n",
      " [1.5461982  2.54458898 3.01931071 ... 0.5        0.5        0.5       ]\n",
      " ...\n",
      " [0.83344509 2.21067453 2.98042108 ... 0.5        0.5        0.5       ]\n",
      " [0.59273166 1.72857718 2.17983103 ... 0.5        0.5        0.5       ]\n",
      " [2.52849671 3.2942202  3.20437173 ... 0.5        0.5        0.5       ]]\n",
      "(2789,)\n"
     ]
    }
   ],
   "source": [
    "arr = np.empty((1,63))\n",
    "for i, row in test_new_dataframe.iterrows():\n",
    "    z = np.asarray(test_new_dataframe['raw_voltage'].iloc[i])\n",
    "\n",
    "    z = np.reshape(z, (1,63))\n",
    "  \n",
    "    arr = np.append(arr, z, axis=0)\n",
    "\n",
    "#print(arr.shape)\n",
    "arr_test_data = np.delete(arr, 0, 0)\n",
    "print(arr_test_data.shape)\n",
    "print(arr_test_data)\n",
    "y_data = test_new_dataframe['label'].to_numpy()\n",
    "print(y_data.shape)"
   ]
  },
  {
   "cell_type": "code",
   "execution_count": 228,
   "metadata": {},
   "outputs": [
    {
     "data": {
      "image/png": "[encoded data removed]",
      "text/plain": [
       "<Figure size 432x288 with 1 Axes>"
      ]
     },
     "metadata": {
      "needs_background": "light"
     },
     "output_type": "display_data"
    }
   ],
   "source": [
    "reconstructions = autoencoder.predict(arr_test_data)\n",
    "test_loss = tf.keras.losses.mae(reconstructions, arr_test_data)\n",
    "\n",
    "plt.hist(test_loss[None, :], bins=50)\n",
    "plt.xlabel(\"Test loss\")\n",
    "plt.ylabel(\"No of examples\")\n",
    "plt.show()"
   ]
  },
  {
   "cell_type": "code",
   "execution_count": null,
   "metadata": {},
   "outputs": [],
   "source": []
  },
  {
   "cell_type": "code",
   "execution_count": null,
   "metadata": {},
   "outputs": [],
   "source": []
  },
  {
   "cell_type": "code",
   "execution_count": null,
   "metadata": {},
   "outputs": [],
   "source": []
  },
  {
   "cell_type": "code",
   "execution_count": null,
   "metadata": {},
   "outputs": [],
   "source": []
  },
  {
   "cell_type": "code",
   "execution_count": null,
   "metadata": {},
   "outputs": [],
   "source": [
    "history = autoencoder.fit(normal_train_data, normal_train_data, \n",
    "          epochs=20, \n",
    "          batch_size=512,\n",
    "          validation_data=(test_data, test_data),\n",
    "          shuffle=True)"
   ]
  },
  {
   "cell_type": "code",
   "execution_count": null,
   "metadata": {},
   "outputs": [],
   "source": []
  }
 ],
 "metadata": {
  "interpreter": {
   "hash": "6f51b50ee739ebfbd5f59db147fe713ccafe28678b2600ed0bc0043b5237f70b"
  },
  "kernelspec": {
   "display_name": "Python 3.10.2 ('test': venv)",
   "language": "python",
   "name": "python3"
  },
  "language_info": {
   "codemirror_mode": {
    "name": "ipython",
    "version": 3
   },
   "file_extension": ".py",
   "mimetype": "text/x-python",
   "name": "python",
   "nbconvert_exporter": "python",
   "pygments_lexer": "ipython3",
   "version": "3.10.2"
  },
  "orig_nbformat": 4
 },
 "nbformat": 4,
 "nbformat_minor": 2
}
